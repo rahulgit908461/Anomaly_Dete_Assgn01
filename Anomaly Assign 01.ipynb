{
 "cells": [
  {
   "cell_type": "code",
   "execution_count": 1,
   "id": "e2b6d176-cb37-48a2-8384-530afc987a94",
   "metadata": {},
   "outputs": [],
   "source": [
    "#Q1. What is anomaly detection and what is its purpose?"
   ]
  },
  {
   "cell_type": "code",
   "execution_count": 2,
   "id": "2b654c7a-1a5b-481a-a70f-0134e1202e68",
   "metadata": {},
   "outputs": [],
   "source": [
    "#Anomaly detection is the identification of rare events, items, or observations which are suspicious because \n",
    "#they differ significantly from standard behaviors or patterns. Anomalies in data are also called standard\n",
    "#deviations, outliers, noise, novelties, and exceptions."
   ]
  },
  {
   "cell_type": "code",
   "execution_count": 3,
   "id": "4a955e38-b27e-4123-aa83-ac3fd9662d31",
   "metadata": {},
   "outputs": [],
   "source": [
    "#Q2. What are the key challenges in anomaly detection?"
   ]
  },
  {
   "cell_type": "code",
   "execution_count": 4,
   "id": "4e9113d5-54f6-43eb-9d32-7ed70a166471",
   "metadata": {},
   "outputs": [],
   "source": [
    "#An anomaly is defined as an observation that does not conform to the expected normal behaviour. To detect anomalies,\n",
    "#modelling and encapsulating normal data is still an open problem, especially if only normal (non-anomalous) data is\n",
    "#available for training time, making it a challenging problem."
   ]
  },
  {
   "cell_type": "code",
   "execution_count": 5,
   "id": "1f9b8833-f109-4127-abf8-714111b11999",
   "metadata": {},
   "outputs": [],
   "source": [
    "#Q3. How does unsupervised anomaly detection differ from supervised anomaly detection?"
   ]
  },
  {
   "cell_type": "code",
   "execution_count": 6,
   "id": "e5122160-c43c-41d2-b31f-bebdcab05626",
   "metadata": {},
   "outputs": [],
   "source": [
    "#The main difference between supervised and unsupervised learning: Labeled data. The main distinction between the\n",
    "#two approaches is the use of labeled datasets. To put it simply, supervised learning uses labeled input and output \n",
    "#data, while an unsupervised learning algorithm does not."
   ]
  },
  {
   "cell_type": "code",
   "execution_count": 7,
   "id": "3c857ac0-3320-456d-a44e-a9f2306a1a0f",
   "metadata": {},
   "outputs": [],
   "source": [
    "#Q4. What are the main categories of anomaly detection algorithms?"
   ]
  },
  {
   "cell_type": "code",
   "execution_count": 9,
   "id": "3cfd0ad4-2f31-4657-b79b-2d310f4bca6d",
   "metadata": {},
   "outputs": [],
   "source": [
    "#Local Outlier Factor: Local Outlier Factor is another anomaly detection technique that takes the density of data points into consideration to decide whether a point is \n",
    "#an anomaly or not.\n",
    "#Robust Covariance:\n",
    "#One Class SVM:\n",
    "#One Class SVM \n",
    "#Benchmarking:\n",
    "#Conclusion:\n",
    "#References:"
   ]
  },
  {
   "cell_type": "code",
   "execution_count": 10,
   "id": "775a6e60-e56d-4433-aa41-fda1cc47f255",
   "metadata": {},
   "outputs": [],
   "source": [
    "#Q5. What are the main assumptions made by distance-based anomaly detection methods?"
   ]
  },
  {
   "cell_type": "code",
   "execution_count": 11,
   "id": "71c0793f-f1b4-4f01-a26e-26b9853f19b9",
   "metadata": {},
   "outputs": [],
   "source": [
    "#The basic assumptions for anomaly detection are that the anomalies, or outliers, occur rarely in the data, and they\n",
    "#are significantly different from the expected pattern in the context being considered.\n",
    "#Distance to All Points. This the simplest possible method, where an algorithm evaluates a single point against\n",
    "#every other point. ...\n",
    "#Distance to Nearest Neighbour. This is simple but can be misleading at times. ...\n",
    "#Average Distance to kNN. ...\n",
    "#Median Distance to kNN. ...\n",
    "#Euclidean. ...\n",
    "#Weighted Euclidean. ...\n",
    "#Minkowski. ...\n",
    "#Manhattan."
   ]
  },
  {
   "cell_type": "code",
   "execution_count": 12,
   "id": "d2a21bbd-e6fb-49d3-97d8-ea1bcea3085d",
   "metadata": {},
   "outputs": [],
   "source": [
    "#Q6. How does the LOF algorithm compute anomaly scores?"
   ]
  },
  {
   "cell_type": "code",
   "execution_count": 13,
   "id": "0362f6bb-f885-4cfd-9086-40a014214a0b",
   "metadata": {},
   "outputs": [],
   "source": [
    "#The Local Outlier Factor (LOF) algorithm is an unsupervised anomaly detection method which computes the local\n",
    "#density deviation of a given data point with respect to its neighbors. It considers as outliers the samples that \n",
    "#have a substantially lower density than their neighbors."
   ]
  },
  {
   "cell_type": "code",
   "execution_count": 14,
   "id": "90ea9a1a-174c-4b57-9045-379a90c07a5c",
   "metadata": {},
   "outputs": [],
   "source": [
    "#Q7. What are the key parameters of the Isolation Forest algorithm?"
   ]
  },
  {
   "cell_type": "code",
   "execution_count": 15,
   "id": "f5be4231-89c4-4c21-aa08-16f28a55b488",
   "metadata": {},
   "outputs": [],
   "source": [
    "#A global interpretability method, called Depth-based Isolation Forest Feature Importance (DIFFI), to provide Global\n",
    "#Feature Importances (GFIs) which represents a condensed measure describing the macro behaviour of the IF model on \n",
    "#training data.\n",
    "#The approach employs binary trees to detect anomalies, resulting in a linear time complexity and low memory usage\n",
    "#that is well-suited"
   ]
  },
  {
   "cell_type": "code",
   "execution_count": 16,
   "id": "7436ca72-5201-41a3-95ff-0269656190aa",
   "metadata": {},
   "outputs": [],
   "source": [
    "#Q8. If a data point has only 2 neighbours of the same class within a radius of 0.5, what is its anomaly score\n",
    "#using KNN with K=10?"
   ]
  }
 ],
 "metadata": {
  "kernelspec": {
   "display_name": "Python 3 (ipykernel)",
   "language": "python",
   "name": "python3"
  },
  "language_info": {
   "codemirror_mode": {
    "name": "ipython",
    "version": 3
   },
   "file_extension": ".py",
   "mimetype": "text/x-python",
   "name": "python",
   "nbconvert_exporter": "python",
   "pygments_lexer": "ipython3",
   "version": "3.10.8"
  }
 },
 "nbformat": 4,
 "nbformat_minor": 5
}
